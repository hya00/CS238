{
 "cells": [
  {
   "cell_type": "code",
   "execution_count": 205,
   "id": "17750394",
   "metadata": {},
   "outputs": [],
   "source": [
    "import numpy as np\n",
    "import pandas as pd\n",
    "import matplotlib.pyplot as plt\n",
    "import warnings\n",
    "warnings.filterwarnings('ignore')"
   ]
  },
  {
   "cell_type": "code",
   "execution_count": 245,
   "id": "2892ab95",
   "metadata": {},
   "outputs": [],
   "source": [
    "def generate(list_price):\n",
    "    # generated 4 bids given the list price, sampled from a gaussian with a mean = listing_price\n",
    "    return np.random.normal(list_price, 0.05*list_price, 4)\n",
    "\n",
    "def raise_bid(list_price, agent_bids):\n",
    "    # whether the seller asks for more offers depending on the average bid\n",
    "    if agent_bids.mean() > list_price:\n",
    "        return 1\n",
    "    else: \n",
    "        return 0\n",
    "    \n",
    "def choose_action():\n",
    "    return np.random.choice([0,1])\n",
    "\n",
    "def simulate_bids(list_price, budget):\n",
    "    count = 1\n",
    "    main_bid = np.random.normal(list_price, 0.05*list_price, 1) # generates our bid\n",
    "    agent_bids = np.append(generate(list_price), main_bid) # generates all the bids\n",
    "    \n",
    "    rounds = np.zeros((5,5)) # initializing matrix holding all bids for all rounds\n",
    "    rounds[0,:] = agent_bids\n",
    "    #print(f'Round {count} bids at listing price of ${list_price}: \\n {agent_bids}\\n Mean bid = {np.mean(agent_bids)}' )\n",
    "    #print('------------------------------------------------------------------------- \\n')\n",
    "    \n",
    "    s = []\n",
    "    a = []\n",
    "    r = []\n",
    " \n",
    "    while raise_bid(list_price, agent_bids) & (count < 5):\n",
    "        s += [2] # continuation state if more offers elicited\n",
    "        action = choose_action() # randomly select action\n",
    "        \n",
    "        if action == 0: # raise the bid by 5%\n",
    "            main_bid = 1.05*main_bid\n",
    "            r += [float(budget - main_bid)/budget] #r(2,0)\n",
    "        else:\n",
    "            main_bid # maintain the bid\n",
    "            r += [0] # r(2,1)\n",
    "        \n",
    "        a += [action]\n",
    "        \n",
    "        list_price += 0.05*list_price \n",
    "\n",
    "        agent_bids = np.append(generate(list_price), main_bid)\n",
    "        count += 1\n",
    "        rounds[count - 1,:] = agent_bids\n",
    "        #print(f'Asking for more offers - Round {count} ...')\n",
    "        #print(f'Round {count} bids at listing price of ${list_price}: \\n {agent_bids}\\n Mean bid = {np.mean(agent_bids)}')\n",
    "        #print('------------------------------------------------------------------------- \\n')\n",
    "    \n",
    "    if main_bid == np.max(agent_bids):\n",
    "        s += [0]\n",
    "        r += [1 - 4*float(budget - main_bid)/budget]\n",
    "        \n",
    "    else:\n",
    "        s += [1]\n",
    "        r += [0]\n",
    "    \n",
    "    #if count>5:\n",
    "        #print(f'Stopping bids after 5 rounds. House sold to maximum bidder at {np.max(agent_bids)}')\n",
    "    #else:\n",
    "        #print(f'Bidding stopped after {count} round(s). House sold to maximum bidder at {np.max(agent_bids)}')\n",
    "    if count > 1:\n",
    "        return pd.DataFrame({'s':s[:-1], 'a':a, 'sp':s[1:], 'r':r[:-1]}).append(pd.DataFrame({'s':s[-1], 'a':[2], 'sp':s[-1], 'r':[1 - 4*float(budget - main_bid)/budget]}))\n",
    "    else:\n",
    "        return pd.DataFrame({'s':s[0], 'a':[2], 'sp':s[0], 'r':[1 - 4*float(budget - main_bid)/budget]})\n",
    "    \n",
    "    "
   ]
  },
  {
   "cell_type": "code",
   "execution_count": 247,
   "id": "3f1daa85",
   "metadata": {},
   "outputs": [],
   "source": [
    "states = []\n",
    "actions = []\n",
    "\n",
    "# simulate 10000 bidding scenarios for listing prices and budget of $1mn to $5mn  \n",
    "df = pd.DataFrame({'s':[], 'a':[], 'sp':[], 'r':[]})\n",
    "for i in np.random.choice(np.linspace(1e6, 2e6, 100), 100):\n",
    "    for j in np.random.choice(np.linspace(1e6, 2e6, 100), 100):\n",
    "        df = df.append(simulate_bids(i,j))\n",
    "\n",
    "\n",
    "#df = df[df.a !=2]    "
   ]
  },
  {
   "cell_type": "code",
   "execution_count": 259,
   "id": "d21dc75d",
   "metadata": {},
   "outputs": [],
   "source": [
    "# Generate transition matrix (S,A,S) and reward matrix (S,A)\n",
    "sa = df.groupby(['s', 'a']).size().reset_index().rename(columns = {0:'sa_counts'})\n",
    "sas = df.groupby(['s', 'a', 'sp']).size().reset_index().rename(columns = {0:'sas_counts'})\n",
    "sas = sas.merge(sa, on = ['s', 'a']) # state action state dataframe\n",
    "sas['prob'] = sas.sas_counts/sas.sa_counts # transition probabilities\n",
    "\n",
    "transition = np.zeros((3,3,3)) # initialize transition matrix\n",
    "rewards = np.zeros((3,3)) # initialize rewards matrix\n",
    "\n",
    "\n",
    "for i in range(len(sas)):\n",
    "    transition[int(sas.s[i]), int(sas.a[i]), int(sas.sp[i])] = sas.prob[i]\n",
    "\n",
    "\n",
    "transition = transition[:,:-1,:]\n",
    "rewards[0,:] = df[df.s == 0].r.mean()\n",
    "rewards[1,:] = df[df.s == 1].r.mean()\n",
    "for a in range(3):\n",
    "    rewards[2,a] = df[(df.s == 2)&(df.a == a)].r.mean()\n",
    "rewards = rewards[:,:-1]"
   ]
  },
  {
   "cell_type": "code",
   "execution_count": 262,
   "id": "39e962b5",
   "metadata": {},
   "outputs": [
    {
     "data": {
      "text/plain": [
       "array([[[0.        , 0.        , 0.        ],\n",
       "        [0.        , 0.        , 0.        ]],\n",
       "\n",
       "       [[0.        , 0.        , 0.        ],\n",
       "        [0.        , 0.        , 0.        ]],\n",
       "\n",
       "       [[0.14011474, 0.34355693, 0.51632833],\n",
       "        [0.05392599, 0.59025271, 0.3558213 ]]])"
      ]
     },
     "execution_count": 262,
     "metadata": {},
     "output_type": "execute_result"
    }
   ],
   "source": [
    "transition"
   ]
  },
  {
   "cell_type": "code",
   "execution_count": 264,
   "id": "cc7618d3",
   "metadata": {},
   "outputs": [
    {
     "data": {
      "text/plain": [
       "array([[ 1.46341208,  1.46341208],\n",
       "       [ 1.16512905,  1.16512905],\n",
       "       [-0.13743629,  0.        ]])"
      ]
     },
     "execution_count": 264,
     "metadata": {},
     "output_type": "execute_result"
    }
   ],
   "source": [
    "rewards"
   ]
  },
  {
   "cell_type": "code",
   "execution_count": null,
   "id": "9a6f9420",
   "metadata": {},
   "outputs": [],
   "source": []
  }
 ],
 "metadata": {
  "kernelspec": {
   "display_name": "NEWENV",
   "language": "python",
   "name": "newenv"
  },
  "language_info": {
   "codemirror_mode": {
    "name": "ipython",
    "version": 3
   },
   "file_extension": ".py",
   "mimetype": "text/x-python",
   "name": "python",
   "nbconvert_exporter": "python",
   "pygments_lexer": "ipython3",
   "version": "3.10.8"
  }
 },
 "nbformat": 4,
 "nbformat_minor": 5
}
