{
"cells": [
  {
   "cell_type": "code",
   "execution_count": 50,
   "id": "b8f0b4be",
   "metadata": {},
   "outputs": [],
   "source": [
    "import mdptoolbox\n",
    "import numpy as np\n",
    "import scipy as sc"
   ]
  },
  {
   "cell_type": "code",
   "execution_count": 51,
   "id": "d05d1ded",
   "metadata": {},
   "outputs": [],
   "source": [
    "A = 3\n",
    "S = 4"
   ]
  },
  {
   "cell_type": "code",
   "execution_count": 52,
   "id": "a5b41d2d",
   "metadata": {},
   "outputs": [],
   "source": [
    "# transition matrix\n",
    "def transition():\n",
    "    transition_list = []\n",
    "    for i in range(A):\n",
    "        transition_list.append(np.zeros((S,S)))\n",
    "    return transition_list"
   ]
  },
  {
   "cell_type": "code",
   "execution_count": 53,
   "id": "6b3ff26b",
   "metadata": {},
   "outputs": [],
   "source": [
    "def states_actions():\n",
    "    states_dict = { #Terminal States\n",
    "                  'seller accepts our bid and > budget': 0, \n",
    "                  'seller accepts our bid and  <= budget': 1,\n",
    "                  'seller rejects our bid' : 2  \n",
    "                  # Continuation States.\n",
    "                  'seller asks for more offers and > budget': 3,\n",
    "                  'seller asks for more offers and <= budget': 4\n",
    "    }\n",
    "    \n",
    "    action_dict = {'higher': 0, 'same': 1, 'withdraw': 2}\n",
    "    \n",
    "    return states_dict, action_dict"
   ]
  },
  {
   "cell_type": "code",
   "execution_count": null,
   "id": "3bc1254b",
   "metadata": {},
   "outputs": [],
   "source": [
    "def states_actions():\n",
    "    states_dict = { #Terminal States\n",
    "        'accept' : 0\n",
    "        'reject' : 1\n",
    "        'continue': 2}\n",
    "    \n",
    "    action_dict = {'higher': 0, 'same': 1}\n",
    "    \n",
    "    return states_dict, action_dict"
   ]
  },
  {
   "cell_type": "code",
   "execution_count": 78,
   "id": "f568c9ef",
   "metadata": {},
   "outputs": [],
   "source": [
    "def rewards(budget, price, k):\n",
    "        \n",
    "    # terminal rewards\n",
    "    \n",
    "    price_to_budget = (budget - price)/budget #budget > price then this is > 0\n",
    "    \n",
    "    # for state 0 \n",
    "    reward_zero = -10*(price_to_budget)\n",
    "    row_zero = np.array([reward_zero, reward_zero, np.nan])\n",
    "    R = np.array(row_zero)\n",
    "\n",
    "    # state 1\n",
    "    reward_one = 10*(price_to_budget)\n",
    "    row_one = np.array([reward_one, reward_one, np.nan])\n",
    "    R = np.vstack([R, row_one])\n",
    "\n",
    "    # state 2, action 0\n",
    "    reward_s2_a0 = -1 - k*(price_to_budget)\n",
    "    # state 2, action 1\n",
    "    reward_s2_a1 = -1\n",
    "    # state 2, action 2\n",
    "    reward_s2_a2 = -2\n",
    "    row_two = np.array([reward_s2_a0, reward_s2_a1, reward_s2_a2])\n",
    "    R = np.vstack([R, row_two])\n",
    "    \n",
    "    # state 3, action 2\n",
    "    reward_s3_a2 = -10 - 10*price_to_budget\n",
    "    # state 3, action 1\n",
    "    reward_s3_a1 = 0\n",
    "    # state 3, action 0\n",
    "    reward_s3_a0 = -1\n",
    "    row_three = np.array([reward_s3_a0, reward_s3_a1, reward_s3_a2])\n",
    "    R = np.vstack([R, row_three])      \n",
    "    \n",
    "    \n",
    "    return R        "
   ]
  },
  {
   "cell_type": "code",
   "execution_count": 80,
   "id": "6482f889",
   "metadata": {},
   "outputs": [
    {
     "data": {
      "text/plain": [
       "array([[ 2. ,  2. ,  nan],\n",
       "       [-2. , -2. ,  nan],\n",
       "       [-0.8, -1. , -2. ],\n",
       "       [-1. ,  0. , -8. ]])"
      ]
     },
     "execution_count": 80,
     "metadata": {},
     "output_type": "execute_result"
    }
   ],
   "source": [
    "rewards(budget = 100, price = 80, k = 1)\n",
    "# S x A\n",
    "# very negative for impossible states - np.inf\n",
    "# state = reject, accept, more offers\n",
    "# rewards = 10 +-"
   ]
  },
  {
   "cell_type": "code",
   "execution_count": null,
   "id": "ce449be0",
   "metadata": {},
   "outputs": [],
   "source": [
    "class POMDP(object):\n",
    "    def __init__(self, budget):\n",
    "        self.budget = budget\n",
    "     \n",
    "    def states"
   ]
  }
 ],
 "metadata": {
  "kernelspec": {
   "display_name": "Python 3 (ipykernel)",
   "language": "python",
   "name": "python3"
  },
  "language_info": {
   "codemirror_mode": {
    "name": "ipython",
    "version": 3
   },
   "file_extension": ".py",
   "mimetype": "text/x-python",
   "name": "python",
   "nbconvert_exporter": "python",
   "pygments_lexer": "ipython3",
   "version": "3.9.7"
  }
 },
 "nbformat": 4,
 "nbformat_minor": 5
}
