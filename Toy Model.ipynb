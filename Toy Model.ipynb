{
 "cells": [
  {
   "cell_type": "code",
   "execution_count": 1,
   "id": "b8f0b4be",
   "metadata": {},
   "outputs": [],
   "source": [
    "import mdptoolbox\n",
    "import numpy as np\n",
    "import scipy as sc"
   ]
  },
  {
   "cell_type": "code",
   "execution_count": 2,
   "id": "d05d1ded",
   "metadata": {},
   "outputs": [],
   "source": [
    "A = 2\n",
    "S = 3"
   ]
  },
  {
   "cell_type": "code",
   "execution_count": 5,
   "id": "3bc1254b",
   "metadata": {},
   "outputs": [],
   "source": [
    "def states_actions():\n",
    "    states_dict = { \n",
    "        # Terminal States\n",
    "        'accept' : 0,\n",
    "        'reject' : 1,\n",
    "        # continuation\n",
    "        'continue': 2}\n",
    "    \n",
    "    action_dict = {'higher': 0, 'same': 1}\n",
    "    \n",
    "    return states_dict, action_dict"
   ]
  },
  {
   "cell_type": "code",
   "execution_count": 69,
   "id": "a5b41d2d",
   "metadata": {},
   "outputs": [],
   "source": [
    "# transition matrix\n",
    "def transition(offered_price, sticker_price):\n",
    "    \n",
    "    # bid higher\n",
    "    new_offered_price = offered_price + 20000\n",
    "    \n",
    "    a1s11 = np.min([0.333 + (new_offered_price - sticker_price)/sticker_price, 1])\n",
    "    a1s11 = np.max([0, a1s11])\n",
    "    \n",
    "    \n",
    "    a1s21 = np.min([0.333 - (new_offered_price - sticker_price)/sticker_price, 1])\n",
    "    a1s21 = np.max([a1s21, 0])\n",
    "    \n",
    "    # bid same      \n",
    "    a2s11 = np.min([0.333 + (offered_price - sticker_price)/sticker_price, 1])\n",
    "    a2s11 = np.max([0, a2s11])\n",
    "    \n",
    "    \n",
    "    a2s21 = np.min([0.333 - (offered_price - sticker_price)/sticker_price, 1])\n",
    "    a2s21 = np.max([a2s21, 0])\n",
    "    \n",
    "    \n",
    "    a1 = np.array([[1,0,0], [0,1,0], [a1s11, a1s21, 1 - a1s21 - a1s11]])\n",
    "    a2 = np.array([[1,0,0], [0,1,0], [a2s11, a2s21, 1- a2s21 -a2s11 ]])\n",
    "    \n",
    "    transition_list = [a1, a2]\n",
    "    \n",
    "    return transition_list"
   ]
  },
  {
   "cell_type": "code",
   "execution_count": 41,
   "id": "e47fbe82",
   "metadata": {},
   "outputs": [
    {
     "data": {
      "text/plain": [
       "[array([[1.   , 0.   , 0.   ],\n",
       "        [0.   , 1.   , 0.   ],\n",
       "        [0.533, 0.133, 0.334]]),\n",
       " array([[1.   , 0.   , 0.   ],\n",
       "        [0.   , 1.   , 0.   ],\n",
       "        [0.483, 0.183, 0.334]])]"
      ]
     },
     "execution_count": 41,
     "metadata": {},
     "output_type": "execute_result"
    }
   ],
   "source": [
    "transition(460000,400000)"
   ]
  },
  {
   "cell_type": "code",
   "execution_count": 6,
   "id": "f568c9ef",
   "metadata": {},
   "outputs": [],
   "source": [
    "def rewards(budget, offered_price):\n",
    "        \n",
    "    # terminal rewards\n",
    "    \n",
    "    price_to_budget = (budget - offered_price)/budget \n",
    "    \n",
    "    # if budget > price, p2b > 0\n",
    "    # if budget < price, p2b < 0\n",
    "    \n",
    "    # for state 0 (accept)\n",
    "    reward_zero = 1 + (price_to_budget*100)/25\n",
    "    R = np.ones(A)*reward_zero\n",
    "\n",
    "    # for state 1 (reject)\n",
    "    reward_one = 0\n",
    "    row_one = np.ones(A)*reward_one\n",
    "    R = np.vstack([R, row_one])\n",
    "\n",
    "    # state 2 (continue)\n",
    "    s2_a0 = price_to_budget\n",
    "    s2_a1 = 0\n",
    "    row_two = np.array([s2_a0,s2_a1])\n",
    "    R = np.vstack([R, row_two])\n",
    "    \n",
    "    return R        "
   ]
  },
  {
   "cell_type": "code",
   "execution_count": 61,
   "id": "3dadeffe",
   "metadata": {},
   "outputs": [],
   "source": [
    "budget = 450000\n",
    "offered_price = 450000\n",
    "sticker_price = 100000\n",
    "\n",
    "P = transition(offered_price, sticker_price)\n",
    "R = rewards(budget, offered_price)\n",
    "pi = mdptoolbox.mdp.PolicyIteration(P, R, 0.9, max_iter = 500)\n",
    "pi.run()"
   ]
  },
  {
   "cell_type": "code",
   "execution_count": 85,
   "id": "d66f7600",
   "metadata": {},
   "outputs": [],
   "source": [
    "budget = 80000\n",
    "offered_price = 90000\n",
    "sticker_price = 100000\n",
    "\n",
    "P = transition(offered_price, sticker_price)\n",
    "R = rewards(budget, offered_price)\n",
    "pi = mdptoolbox.mdp.QLearning(P, R, 0.9)\n",
    "pi.run()"
   ]
  },
  {
   "cell_type": "code",
   "execution_count": 86,
   "id": "6482f889",
   "metadata": {},
   "outputs": [
    {
     "name": "stdout",
     "output_type": "stream",
     "text": [
      "(0, 0, 1)\n"
     ]
    },
    {
     "data": {
      "text/plain": [
       "(4.996746357004661, 0.0, 0.8163400356456989)"
      ]
     },
     "execution_count": 86,
     "metadata": {},
     "output_type": "execute_result"
    }
   ],
   "source": [
    "print(pi.policy)\n",
    "pi.V"
   ]
  }
 ],
 "metadata": {
  "kernelspec": {
   "display_name": "Python 3 (ipykernel)",
   "language": "python",
   "name": "python3"
  },
  "language_info": {
   "codemirror_mode": {
    "name": "ipython",
    "version": 3
   },
   "file_extension": ".py",
   "mimetype": "text/x-python",
   "name": "python",
   "nbconvert_exporter": "python",
   "pygments_lexer": "ipython3",
   "version": "3.9.7"
  }
 },
 "nbformat": 4,
 "nbformat_minor": 5
}
