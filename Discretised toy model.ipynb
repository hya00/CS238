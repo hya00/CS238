{
 "cells": [
  {
   "cell_type": "code",
   "execution_count": 1,
   "id": "b8f0b4be",
   "metadata": {},
   "outputs": [],
   "source": [
    "import mdptoolbox\n",
    "import numpy as np\n",
    "import scipy as sc"
   ]
  },
  {
   "cell_type": "code",
   "execution_count": 2,
   "id": "d05d1ded",
   "metadata": {},
   "outputs": [],
   "source": [
    "A = 3\n",
    "S = 50*3"
   ]
  },
  {
   "cell_type": "code",
   "execution_count": 3,
   "id": "3bc1254b",
   "metadata": {},
   "outputs": [],
   "source": [
    "def states_actions():\n",
    "    \n",
    "    action_dict = {'lower': 0, 'same': 1, 'higher': 2}\n",
    "    \n",
    "    return states_dict, action_dict"
   ]
  },
  {
   "cell_type": "code",
   "execution_count": 43,
   "id": "a5b41d2d",
   "metadata": {},
   "outputs": [],
   "source": [
    "# dummy transition matrix\n",
    "def transition():\n",
    "    t_lst = np.array([np.eye(78), np.eye(78)])   \n",
    "    return t_lst"
   ]
  },
  {
   "cell_type": "code",
   "execution_count": 54,
   "id": "f568c9ef",
   "metadata": {},
   "outputs": [],
   "source": [
    "def rewards(initial_offer, list_price):\n",
    "    \n",
    "    # s1 = 50\n",
    "    # s2 = 3\n",
    "    # 150 total states\n",
    "    \n",
    "    increment = initial_offer/100\n",
    "        \n",
    "    # we only have terminal rewards\n",
    "    R = []\n",
    "    for i in range(0, 26):\n",
    "        s = (initial_offer - increment*i - list_price)/initial_offer\n",
    "        # for s2 = 0 i.e. accept\n",
    "        R.append(1 + s)\n",
    "        R.append(-1)\n",
    "        R.append(s)  \n",
    "        \n",
    "    \n",
    "    return R       "
   ]
  },
  {
   "cell_type": "code",
   "execution_count": 63,
   "id": "9a763e69",
   "metadata": {},
   "outputs": [
    {
     "data": {
      "text/plain": [
       "array([[ 0.92307692, -1.        , -0.07692308],\n",
       "       [ 0.91307692, -1.        , -0.08692308],\n",
       "       [ 0.90307692, -1.        , -0.09692308],\n",
       "       [ 0.89307692, -1.        , -0.10692308],\n",
       "       [ 0.88307692, -1.        , -0.11692308],\n",
       "       [ 0.87307692, -1.        , -0.12692308],\n",
       "       [ 0.86307692, -1.        , -0.13692308],\n",
       "       [ 0.85307692, -1.        , -0.14692308],\n",
       "       [ 0.84307692, -1.        , -0.15692308],\n",
       "       [ 0.83307692, -1.        , -0.16692308],\n",
       "       [ 0.82307692, -1.        , -0.17692308],\n",
       "       [ 0.81307692, -1.        , -0.18692308],\n",
       "       [ 0.80307692, -1.        , -0.19692308],\n",
       "       [ 0.79307692, -1.        , -0.20692308],\n",
       "       [ 0.78307692, -1.        , -0.21692308],\n",
       "       [ 0.77307692, -1.        , -0.22692308],\n",
       "       [ 0.76307692, -1.        , -0.23692308],\n",
       "       [ 0.75307692, -1.        , -0.24692308],\n",
       "       [ 0.74307692, -1.        , -0.25692308],\n",
       "       [ 0.73307692, -1.        , -0.26692308],\n",
       "       [ 0.72307692, -1.        , -0.27692308],\n",
       "       [ 0.71307692, -1.        , -0.28692308],\n",
       "       [ 0.70307692, -1.        , -0.29692308],\n",
       "       [ 0.69307692, -1.        , -0.30692308],\n",
       "       [ 0.68307692, -1.        , -0.31692308],\n",
       "       [ 0.67307692, -1.        , -0.32692308]])"
      ]
     },
     "execution_count": 63,
     "metadata": {},
     "output_type": "execute_result"
    }
   ],
   "source": [
    "x = np.array(rewards(3.25, 3.5))\n",
    "np.reshape(x, (26,3))"
   ]
  },
  {
   "cell_type": "code",
   "execution_count": 64,
   "id": "6482f889",
   "metadata": {},
   "outputs": [
    {
     "data": {
      "text/plain": [
       "array([[0, 1, 1],\n",
       "       [0, 0, 0],\n",
       "       [0, 0, 0],\n",
       "       [0, 0, 0],\n",
       "       [0, 0, 1],\n",
       "       [1, 1, 0],\n",
       "       [0, 0, 1],\n",
       "       [0, 0, 1],\n",
       "       [1, 0, 1],\n",
       "       [0, 0, 1],\n",
       "       [1, 0, 1],\n",
       "       [1, 0, 0],\n",
       "       [0, 0, 0],\n",
       "       [0, 1, 1],\n",
       "       [0, 1, 0],\n",
       "       [0, 1, 0],\n",
       "       [0, 1, 0],\n",
       "       [0, 0, 1],\n",
       "       [0, 0, 0],\n",
       "       [0, 1, 1],\n",
       "       [0, 1, 0],\n",
       "       [0, 0, 0],\n",
       "       [1, 1, 0],\n",
       "       [0, 1, 0],\n",
       "       [0, 0, 1],\n",
       "       [0, 0, 0]])"
      ]
     },
     "execution_count": 64,
     "metadata": {},
     "output_type": "execute_result"
    }
   ],
   "source": [
    "P = transition()\n",
    "R = np.array(rewards(45, 50))\n",
    "pi = mdptoolbox.mdp.QLearning(P, R, 0.9)\n",
    "pi.run()\n",
    "np.reshape(pi.policy, (26,3))"
   ]
  }
 ],
 "metadata": {
  "kernelspec": {
   "display_name": "Python 3 (ipykernel)",
   "language": "python",
   "name": "python3"
  },
  "language_info": {
   "codemirror_mode": {
    "name": "ipython",
    "version": 3
   },
   "file_extension": ".py",
   "mimetype": "text/x-python",
   "name": "python",
   "nbconvert_exporter": "python",
   "pygments_lexer": "ipython3",
   "version": "3.9.7"
  }
 },
 "nbformat": 4,
 "nbformat_minor": 5
}
